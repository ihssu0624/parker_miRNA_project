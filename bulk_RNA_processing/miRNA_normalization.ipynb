{
 "cells": [
  {
   "cell_type": "code",
   "execution_count": null,
   "metadata": {},
   "outputs": [],
   "source": [
    "###################################################################################\n",
    "## Name: miRNA_normalization\n",
    "## Goal: Normalize TCGA (bulk) microRNA data by\n",
    "##       1) Subset to corrected data and drop rows with NA values\n",
    "##       2) Apply upper-quantile normalization and centering\n",
    "## Output: Normalized miRNA data for outcome variable of model\n",
    "##         Dataset dimension: (662, 10824)\n",
    "## Author: Claire Su\n",
    "## Date Last Modified: 2/28/2020\n",
    "## Notes:\n",
    "###################################################################################"
   ]
  },
  {
   "cell_type": "code",
   "execution_count": 1,
   "metadata": {},
   "outputs": [],
   "source": [
    "## import pakcages \n",
    "import pandas as pd\n",
    "import numpy as np"
   ]
  },
  {
   "cell_type": "code",
   "execution_count": 3,
   "metadata": {},
   "outputs": [],
   "source": [
    "## read in raw miRNA data\n",
    "pan_microrna = pd.read_csv('/home/isu/miRNA_project/raw_data/pancanMiRs_EBadjOnProtocolPlatformWithoutRepsWithUnCorrectMiRs_08_04_16.csv', \n",
    "                         sep=',', header=[0], index_col=0)"
   ]
  },
  {
   "cell_type": "code",
   "execution_count": 8,
   "metadata": {},
   "outputs": [
    {
     "data": {
      "text/plain": [
       "(662, 10825)"
      ]
     },
     "execution_count": 8,
     "metadata": {},
     "output_type": "execute_result"
    }
   ],
   "source": [
    "## subset to corrected miRNA\n",
    "pan_microrna_corrected = pan_microrna[pan_microrna.Correction == 'Corrected']\n",
    "pan_microrna_corrected.shape ## (662, 10825) "
   ]
  },
  {
   "cell_type": "code",
   "execution_count": 11,
   "metadata": {},
   "outputs": [],
   "source": [
    "## remove rows with NA values\n",
    "pan_microrna_nomissing=pan_microrna_corrected.dropna(axis=0)\n",
    "pan_microrna_nomissing.shape\n",
    "\n",
    "## drop the Correction column\n",
    "pan_microrna_nomissing=pan_microrna_nomissing.drop([\"Correction\"],axis=1)"
   ]
  },
  {
   "cell_type": "code",
   "execution_count": 13,
   "metadata": {},
   "outputs": [],
   "source": [
    "## upper-quantile normalization \n",
    "pan_microrna_qnormalized=pan_microrna_nomissing.apply(lambda col: np.log1p(col/col[col.astype(bool)].quantile(0.75)))\n",
    "\n",
    "## centering\n",
    "pan_microrna_qcnormalized = pan_microrna_qnormalized.apply(lambda row: row-row.mean(), axis=1)"
   ]
  },
  {
   "cell_type": "code",
   "execution_count": 14,
   "metadata": {},
   "outputs": [
    {
     "data": {
      "text/plain": [
       "(662, 10824)"
      ]
     },
     "execution_count": 14,
     "metadata": {},
     "output_type": "execute_result"
    }
   ],
   "source": [
    "## check normalized data dimension\n",
    "pan_microrna_qcnormalized.shape ##(662, 10824)"
   ]
  },
  {
   "cell_type": "code",
   "execution_count": 15,
   "metadata": {},
   "outputs": [],
   "source": [
    "## save file\n",
    "pan_microrna_qcnormalized.to_csv('/home/isu/miRNA_project/normalized_data/miRNA_normalized.csv')"
   ]
  }
 ],
 "metadata": {
  "kernelspec": {
   "display_name": "Python 3",
   "language": "python",
   "name": "python3"
  },
  "language_info": {
   "codemirror_mode": {
    "name": "ipython",
    "version": 3
   },
   "file_extension": ".py",
   "mimetype": "text/x-python",
   "name": "python",
   "nbconvert_exporter": "python",
   "pygments_lexer": "ipython3",
   "version": "3.7.1"
  }
 },
 "nbformat": 4,
 "nbformat_minor": 2
}
